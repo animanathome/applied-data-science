{
 "cells": [
  {
   "cell_type": "code",
   "execution_count": 23,
   "metadata": {},
   "outputs": [],
   "source": [
    "from bs4 import BeautifulSoup\n",
    "from urllib2 import urlopen\n",
    "import re"
   ]
  },
  {
   "cell_type": "code",
   "execution_count": 60,
   "metadata": {},
   "outputs": [],
   "source": [
    "# https://en.wikipedia.org/w/api.php\n",
    "# ?action=opensearch\n",
    "# &search=zyz          # search query\n",
    "# &limit=1             # return only the first result\n",
    "# &namespace=0         # search only articles, ignoring Talk, Mediawiki, etc.\n",
    "# &format=json         # jsonfm prints the JSON in HTML for debugging.\n",
    "\n",
    "import urllib, json\n",
    "url = 'https://en.wikipedia.org/w/api.php?action=opensearch&search=incredibles2&limit=1&namespace=0&format=json'\n",
    "response = urlopen(url)\n",
    "url_data = json.loads(response.read())"
   ]
  },
  {
   "cell_type": "code",
   "execution_count": 56,
   "metadata": {},
   "outputs": [
    {
     "data": {
      "text/plain": [
       "u'https://en.wikipedia.org/wiki/Incredibles_2'"
      ]
     },
     "execution_count": 56,
     "metadata": {},
     "output_type": "execute_result"
    }
   ],
   "source": [
    "url_data[3][0]"
   ]
  },
  {
   "cell_type": "code",
   "execution_count": 59,
   "metadata": {},
   "outputs": [
    {
     "data": {
      "text/plain": [
       "{'budget': u'$200 million',\n",
       " 'country': u'United States',\n",
       " 'gross': u'$1.121 billion'}"
      ]
     },
     "execution_count": 59,
     "metadata": {},
     "output_type": "execute_result"
    }
   ],
   "source": [
    "def get_data_from_wiki(url):\n",
    "    \"\"\"\n",
    "    Get the following data from a movie title wiki page\n",
    "    {'budget': u'$200 million',\n",
    "     'country': u'United States',\n",
    "     'gross': u'$1.121 billion'}\n",
    "    \"\"\"\n",
    "    data = {}\n",
    "    soup = BeautifulSoup(urlopen(url).read(), 'lxml')\n",
    "    tables = soup.findAll(\"table\", {\"class\": \"infobox vevent\"})\n",
    "    if not tables:\n",
    "        return data\n",
    "    \n",
    "    for i, tr in enumerate(tables[0].findChildren('tr')):\n",
    "        if 'Country' in tr.getText():\n",
    "            country = tr.td.getText().replace('\\n', '')\n",
    "            if '[' in country:\n",
    "                country = country.split('[')[0]\n",
    "            data['country'] = country\n",
    "        if 'Budget' in tr.getText():\n",
    "            budget = tr.td.getText().replace('\\n', '')\n",
    "            if '[' in budget:\n",
    "                budget = budget.split('[')[0]\n",
    "            data['budget'] = budget\n",
    "        if 'Box office' in tr.getText():\n",
    "            gross = tr.td.getText().replace('\\n', '')\n",
    "            if '[' in gross:\n",
    "                gross = gross.split('[')[0]\n",
    "            data['gross'] = gross\n",
    "    \n",
    "    return data\n",
    "        \n",
    "url = url_data[3][0]\n",
    "get_data_from_wiki(url)"
   ]
  },
  {
   "cell_type": "code",
   "execution_count": 65,
   "metadata": {},
   "outputs": [
    {
     "data": {
      "text/plain": [
       "'$8 million'"
      ]
     },
     "execution_count": 65,
     "metadata": {},
     "output_type": "execute_result"
    }
   ],
   "source": [
    "t = '< $8 million'\n",
    "t[:2]\n",
    "t[2:]"
   ]
  },
  {
   "cell_type": "code",
   "execution_count": 69,
   "metadata": {},
   "outputs": [
    {
     "data": {
      "text/plain": [
       "'US$5.4 million)'"
      ]
     },
     "execution_count": 69,
     "metadata": {},
     "output_type": "execute_result"
    }
   ],
   "source": [
    "x = 'MX$100.7 million(US$5.4 million)'\n",
    "if x[:2] == 'MX':\n",
    "    x = x.split('(')[1]"
   ]
  },
  {
   "cell_type": "code",
   "execution_count": 93,
   "metadata": {},
   "outputs": [],
   "source": [
    "# x = \"₹150 million\"\n",
    "# if x[:1] == \"₹\":\n",
    "#     print x"
   ]
  }
 ],
 "metadata": {
  "kernelspec": {
   "display_name": "Python [default]",
   "language": "python",
   "name": "python2"
  },
  "language_info": {
   "codemirror_mode": {
    "name": "ipython",
    "version": 2
   },
   "file_extension": ".py",
   "mimetype": "text/x-python",
   "name": "python",
   "nbconvert_exporter": "python",
   "pygments_lexer": "ipython2",
   "version": "2.7.14"
  }
 },
 "nbformat": 4,
 "nbformat_minor": 2
}
