{
 "cells": [
  {
   "cell_type": "code",
   "execution_count": 101,
   "metadata": {},
   "outputs": [],
   "source": [
    "import matplotlib.pyplot as plt\n",
    "import pandas as pd\n",
    "import seaborn as sns"
   ]
  },
  {
   "cell_type": "code",
   "execution_count": 123,
   "metadata": {},
   "outputs": [
    {
     "data": {
      "text/html": [
       "<div>\n",
       "<style scoped>\n",
       "    .dataframe tbody tr th:only-of-type {\n",
       "        vertical-align: middle;\n",
       "    }\n",
       "\n",
       "    .dataframe tbody tr th {\n",
       "        vertical-align: top;\n",
       "    }\n",
       "\n",
       "    .dataframe thead th {\n",
       "        text-align: right;\n",
       "    }\n",
       "</style>\n",
       "<table border=\"1\" class=\"dataframe\">\n",
       "  <thead>\n",
       "    <tr style=\"text-align: right;\">\n",
       "      <th></th>\n",
       "      <th>Country or Area</th>\n",
       "      <th>Commodity - Transaction</th>\n",
       "      <th>Year</th>\n",
       "      <th>Unit</th>\n",
       "      <th>Quantity</th>\n",
       "      <th>Quantity Footnotes</th>\n",
       "    </tr>\n",
       "  </thead>\n",
       "  <tbody>\n",
       "    <tr>\n",
       "      <th>0</th>\n",
       "      <td>Afghanistan</td>\n",
       "      <td>Electricity - total net installed capacity of ...</td>\n",
       "      <td>2015.0</td>\n",
       "      <td>Kilowatts,  thousand</td>\n",
       "      <td>431.0</td>\n",
       "      <td>1.0</td>\n",
       "    </tr>\n",
       "    <tr>\n",
       "      <th>1</th>\n",
       "      <td>Afghanistan</td>\n",
       "      <td>Electricity - total net installed capacity of ...</td>\n",
       "      <td>2014.0</td>\n",
       "      <td>Kilowatts,  thousand</td>\n",
       "      <td>431.0</td>\n",
       "      <td>1.0</td>\n",
       "    </tr>\n",
       "    <tr>\n",
       "      <th>2</th>\n",
       "      <td>Afghanistan</td>\n",
       "      <td>Electricity - total net installed capacity of ...</td>\n",
       "      <td>2013.0</td>\n",
       "      <td>Kilowatts,  thousand</td>\n",
       "      <td>431.0</td>\n",
       "      <td>1.0</td>\n",
       "    </tr>\n",
       "    <tr>\n",
       "      <th>3</th>\n",
       "      <td>Afghanistan</td>\n",
       "      <td>Electricity - total net installed capacity of ...</td>\n",
       "      <td>2012.0</td>\n",
       "      <td>Kilowatts,  thousand</td>\n",
       "      <td>431.0</td>\n",
       "      <td>NaN</td>\n",
       "    </tr>\n",
       "    <tr>\n",
       "      <th>4</th>\n",
       "      <td>Afghanistan</td>\n",
       "      <td>Electricity - total net installed capacity of ...</td>\n",
       "      <td>2011.0</td>\n",
       "      <td>Kilowatts,  thousand</td>\n",
       "      <td>431.0</td>\n",
       "      <td>NaN</td>\n",
       "    </tr>\n",
       "  </tbody>\n",
       "</table>\n",
       "</div>"
      ],
      "text/plain": [
       "  Country or Area                            Commodity - Transaction    Year  \\\n",
       "0     Afghanistan  Electricity - total net installed capacity of ...  2015.0   \n",
       "1     Afghanistan  Electricity - total net installed capacity of ...  2014.0   \n",
       "2     Afghanistan  Electricity - total net installed capacity of ...  2013.0   \n",
       "3     Afghanistan  Electricity - total net installed capacity of ...  2012.0   \n",
       "4     Afghanistan  Electricity - total net installed capacity of ...  2011.0   \n",
       "\n",
       "                   Unit  Quantity  Quantity Footnotes  \n",
       "0  Kilowatts,  thousand     431.0                 1.0  \n",
       "1  Kilowatts,  thousand     431.0                 1.0  \n",
       "2  Kilowatts,  thousand     431.0                 1.0  \n",
       "3  Kilowatts,  thousand     431.0                 NaN  \n",
       "4  Kilowatts,  thousand     431.0                 NaN  "
      ]
     },
     "execution_count": 123,
     "metadata": {},
     "output_type": "execute_result"
    }
   ],
   "source": [
    "# Energy Statistics Database - http://data.un.org/DataMartInfo.aspx\n",
    "df = pd.read_csv('data/UNdata_Export_20180816_052140562.csv')\n",
    "df.head()"
   ]
  },
  {
   "cell_type": "code",
   "execution_count": 42,
   "metadata": {},
   "outputs": [
    {
     "data": {
      "text/plain": [
       "Index([u'Country or Area', u'Commodity - Transaction', u'Year', u'Unit',\n",
       "       u'Quantity', u'Quantity Footnotes'],\n",
       "      dtype='object')"
      ]
     },
     "execution_count": 42,
     "metadata": {},
     "output_type": "execute_result"
    }
   ],
   "source": [
    "df.columns"
   ]
  },
  {
   "cell_type": "code",
   "execution_count": 134,
   "metadata": {},
   "outputs": [
    {
     "data": {
      "text/plain": [
       "['Electricity - net installed capacity of electric power plants public solar',\n",
       " 'Electricity - net installed capacity of electric power plants, public combustible fuels',\n",
       " 'Electricity - net installed capacity of electric power plants, public hydro',\n",
       " 'Electricity - net installed capacity of electric power plants, public nuclear',\n",
       " 'Electricity - net installed capacity of electric power plants, public tide, wave, marine',\n",
       " 'Electricity - net installed capacity of electric power plants, public wind',\n",
       " 'Electricity - net installed capacity of electric power plants, self-producer combustible fuels',\n",
       " 'Electricity - net installed capacity of electric power plants, self-producer hydro',\n",
       " 'Electricity - net installed capacity of electric power plants, self-producer wind',\n",
       " 'Electricity - total net installed capacity of electric power plants, autoproducer',\n",
       " 'Electricity - total net installed capacity of electric power plants, combustible fuels',\n",
       " 'Electricity - total net installed capacity of electric power plants, hydro',\n",
       " 'Electricity - total net installed capacity of electric power plants, main activity',\n",
       " 'Electricity - total net installed capacity of electric power plants, main activity & autoproducer',\n",
       " 'Electricity - total net installed capacity of electric power plants, nuclear',\n",
       " 'Electricity - total net installed capacity of electric power plants, solar',\n",
       " 'Electricity - total net installed capacity of electric power plants, tide, wave, marine',\n",
       " 'Electricity - total net installed capacity of electric power plants, wind',\n",
       " 'Electricity generating capacity - From other sources - Main activity producers',\n",
       " 'Electricity generating capacity - From other sources - Total',\n",
       " 'Electricity generating capacity - Pumped hydro - Main activity producers',\n",
       " 'Electricity generating capacity - Pumped hydro - Total',\n",
       " 'Electricity generating capacity - Solar PV - Main activity producers',\n",
       " 'Electricity generating capacity - Solar PV - Total']"
      ]
     },
     "execution_count": 134,
     "metadata": {},
     "output_type": "execute_result"
    }
   ],
   "source": [
    "can_df = df.loc[df['Country or Area'] == 'Canada']\n",
    "trans_list = sorted(can_df['Commodity - Transaction'].unique())\n",
    "trans_list"
   ]
  },
  {
   "cell_type": "markdown",
   "metadata": {},
   "source": [
    "Autoproducer undertakings generate electricity and/or heat, wholly or partly for their own use as an activity which supports their primary activity."
   ]
  },
  {
   "cell_type": "code",
   "execution_count": 150,
   "metadata": {},
   "outputs": [
    {
     "name": "stdout",
     "output_type": "stream",
     "text": [
      "autoproducer 9766.0 Kilowatts,  thousand\n",
      "combustible fuels 40946.0 Kilowatts,  thousand\n",
      "hydro 79420.0 Kilowatts,  thousand\n",
      "main activity 139584.0 Kilowatts,  thousand\n",
      "main activity & autoproducer 149350.0 Kilowatts,  thousand\n",
      "nuclear 14033.0 Kilowatts,  thousand\n",
      "solar 2517.0 Kilowatts,  thousand\n",
      "tide, wave, marine 20.0 Kilowatts,  thousand\n",
      "wind 11214.0 Kilowatts,  thousand\n",
      "total 446,850.0\n"
     ]
    },
    {
     "data": {
      "image/png": "[encoded data removed]",
      "text/plain": [
       "<Figure size 432x288 with 1 Axes>"
      ]
     },
     "metadata": {},
     "output_type": "display_data"
    }
   ],
   "source": [
    "\n",
    "\n",
    "match = 'Electricity - total net installed capacity of electric power plants'\n",
    "total = 0\n",
    "for trans in trans_list:\n",
    "    if match in trans:        \n",
    "        tdf = can_df[can_df['Commodity - Transaction'] == trans]\n",
    "        label = trans.replace(match, '')\n",
    "        label = label[2:] if label[0] == ',' else label[1:]\n",
    "        plt.plot(tdf['Year'], tdf['Quantity'], label=label)\n",
    "        print label, tdf['Quantity'].values[0], tdf['Unit'].values[0]\n",
    "        total += tdf['Quantity'].values[0]\n",
    "\n",
    "print 'total', \"{:,}\".format(total)\n",
    "plt.xlabel('Year')\n",
    "plt.ylabel('Quantity')\n",
    "plt.legend(bbox_to_anchor=(1, 1))\n",
    "plt.show()"
   ]
  },
  {
   "cell_type": "code",
   "execution_count": 29,
   "metadata": {},
   "outputs": [],
   "source": [
    "trans_type = [\n",
    "'Electricity - total net installed capacity of electric power plants, combustible fuels',\n",
    "'Electricity - total net installed capacity of electric power plants, hydro',\n",
    "'Electricity - total net installed capacity of electric power plants, nuclear',\n",
    "'Electricity - total net installed capacity of electric power plants, solar',\n",
    "'Electricity - total net installed capacity of electric power plants, tide, wave, marine',\n",
    "'Electricity - total net installed capacity of electric power plants, wind'\n",
    "]"
   ]
  },
  {
   "cell_type": "code",
   "execution_count": 16,
   "metadata": {},
   "outputs": [
    {
     "data": {
      "image/png": "[encoded data removed]",
      "text/plain": [
       "<Figure size 432x288 with 1 Axes>"
      ]
     },
     "metadata": {},
     "output_type": "display_data"
    }
   ],
   "source": [
    "a = can_df.loc[can_df['Commodity - Transaction'] == 'Electricity - net installed capacity of electric power plants public solar']\n",
    "b = can_df.loc[can_df['Commodity - Transaction'] == 'Electricity - total net installed capacity of electric power plants, solar']\n",
    "# a['Quantity'], b['Quantity']\n",
    "\n",
    "plt.plot(a['Year'], a['Quantity'])\n",
    "plt.plot(b['Year'], b['Quantity'])\n",
    "plt.show()"
   ]
  },
  {
   "cell_type": "code",
   "execution_count": 15,
   "metadata": {},
   "outputs": [],
   "source": [
    "# /data/SE4ALLData.csv \n",
    "# /data/SE4ALLSeries.csv"
   ]
  },
  {
   "cell_type": "code",
   "execution_count": 8,
   "metadata": {},
   "outputs": [],
   "source": [
    "# https://datacatalog.worldbank.org/dataset/sustainable-energy-all"
   ]
  },
  {
   "cell_type": "code",
   "execution_count": 136,
   "metadata": {},
   "outputs": [
    {
     "data": {
      "text/html": [
       "<div>\n",
       "<style scoped>\n",
       "    .dataframe tbody tr th:only-of-type {\n",
       "        vertical-align: middle;\n",
       "    }\n",
       "\n",
       "    .dataframe tbody tr th {\n",
       "        vertical-align: top;\n",
       "    }\n",
       "\n",
       "    .dataframe thead th {\n",
       "        text-align: right;\n",
       "    }\n",
       "</style>\n",
       "<table border=\"1\" class=\"dataframe\">\n",
       "  <thead>\n",
       "    <tr style=\"text-align: right;\">\n",
       "      <th></th>\n",
       "      <th>Country or Area</th>\n",
       "      <th>Commodity - Transaction</th>\n",
       "      <th>Year</th>\n",
       "      <th>Unit</th>\n",
       "      <th>Quantity</th>\n",
       "      <th>Quantity Footnotes</th>\n",
       "    </tr>\n",
       "  </thead>\n",
       "  <tbody>\n",
       "    <tr>\n",
       "      <th>0</th>\n",
       "      <td>Afghanistan</td>\n",
       "      <td>Electricity - net production</td>\n",
       "      <td>2016.0</td>\n",
       "      <td>Kilowatt-hours, million</td>\n",
       "      <td>1006.3</td>\n",
       "      <td>1.0</td>\n",
       "    </tr>\n",
       "    <tr>\n",
       "      <th>1</th>\n",
       "      <td>Afghanistan</td>\n",
       "      <td>Electricity - net production</td>\n",
       "      <td>2015.0</td>\n",
       "      <td>Kilowatt-hours, million</td>\n",
       "      <td>973.7</td>\n",
       "      <td>1.0</td>\n",
       "    </tr>\n",
       "    <tr>\n",
       "      <th>2</th>\n",
       "      <td>Afghanistan</td>\n",
       "      <td>Electricity - net production</td>\n",
       "      <td>2014.0</td>\n",
       "      <td>Kilowatt-hours, million</td>\n",
       "      <td>991.3</td>\n",
       "      <td>1.0</td>\n",
       "    </tr>\n",
       "    <tr>\n",
       "      <th>3</th>\n",
       "      <td>Afghanistan</td>\n",
       "      <td>Electricity - net production</td>\n",
       "      <td>2013.0</td>\n",
       "      <td>Kilowatt-hours, million</td>\n",
       "      <td>965.3</td>\n",
       "      <td>1.0</td>\n",
       "    </tr>\n",
       "    <tr>\n",
       "      <th>4</th>\n",
       "      <td>Afghanistan</td>\n",
       "      <td>Electricity - net production</td>\n",
       "      <td>2012.0</td>\n",
       "      <td>Kilowatt-hours, million</td>\n",
       "      <td>967.0</td>\n",
       "      <td>1.0</td>\n",
       "    </tr>\n",
       "  </tbody>\n",
       "</table>\n",
       "</div>"
      ],
      "text/plain": [
       "  Country or Area       Commodity - Transaction    Year  \\\n",
       "0     Afghanistan  Electricity - net production  2016.0   \n",
       "1     Afghanistan  Electricity - net production  2015.0   \n",
       "2     Afghanistan  Electricity - net production  2014.0   \n",
       "3     Afghanistan  Electricity - net production  2013.0   \n",
       "4     Afghanistan  Electricity - net production  2012.0   \n",
       "\n",
       "                      Unit  Quantity  Quantity Footnotes  \n",
       "0  Kilowatt-hours, million    1006.3                 1.0  \n",
       "1  Kilowatt-hours, million     973.7                 1.0  \n",
       "2  Kilowatt-hours, million     991.3                 1.0  \n",
       "3  Kilowatt-hours, million     965.3                 1.0  \n",
       "4  Kilowatt-hours, million     967.0                 1.0  "
      ]
     },
     "execution_count": 136,
     "metadata": {},
     "output_type": "execute_result"
    }
   ],
   "source": [
    "# total electricity: net production\n",
    "# http://data.un.org/Data.aspx?d=EDATA&f=cmID%3aEL%3btrID%3a019\n",
    "df = pd.read_csv('data/UNdata_Export_20180817_022545621.csv')\n",
    "df.head()"
   ]
  },
  {
   "cell_type": "code",
   "execution_count": 146,
   "metadata": {},
   "outputs": [
    {
     "name": "stdout",
     "output_type": "stream",
     "text": [
      "year: 2016.0 quantity: 653,208.0 Kilowatt-hours, million\n"
     ]
    },
    {
     "data": {
      "image/png": "[encoded data removed]",
      "text/plain": [
       "<Figure size 432x288 with 1 Axes>"
      ]
     },
     "metadata": {},
     "output_type": "display_data"
    }
   ],
   "source": [
    "can_enp_df = df.loc[df['Country or Area'] == 'Canada']\n",
    "plt.plot(can_enp_df['Year'], can_enp_df['Quantity'])\n",
    "print 'year:', can_enp_df['Year'].values[0], 'quantity:', \"{:,}\".format(can_enp_df['Quantity'].values[0]), can_enp_df['Unit'].values[0]"
   ]
  }
 ],
 "metadata": {
  "kernelspec": {
   "display_name": "Python [default]",
   "language": "python",
   "name": "python2"
  },
  "language_info": {
   "codemirror_mode": {
    "name": "ipython",
    "version": 2
   },
   "file_extension": ".py",
   "mimetype": "text/x-python",
   "name": "python",
   "nbconvert_exporter": "python",
   "pygments_lexer": "ipython2",
   "version": "2.7.14"
  }
 },
 "nbformat": 4,
 "nbformat_minor": 2
}
