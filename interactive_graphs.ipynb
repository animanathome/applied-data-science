{
 "cells": [
  {
   "cell_type": "markdown",
   "metadata": {},
   "source": [
    "Example showing which libraries to import for interactive graph with output"
   ]
  },
  {
   "cell_type": "code",
   "execution_count": 1,
   "metadata": {},
   "outputs": [
    {
     "data": {
      "application/vnd.jupyter.widget-view+json": {
       "model_id": "3e7cc0dec36b4835bdbf15ffa00dd660",
       "version_major": 2,
       "version_minor": 0
      },
      "text/plain": [
       "FigureCanvasNbAgg()"
      ]
     },
     "metadata": {},
     "output_type": "display_data"
    },
    {
     "name": "stdout",
     "output_type": "stream",
     "text": [
      "('click', <matplotlib.backend_bases.MouseEvent object at 0x7f67e809cad0>)\n",
      "('click', <matplotlib.backend_bases.MouseEvent object at 0x7f67b23ad510>)\n",
      "('click', <matplotlib.backend_bases.MouseEvent object at 0x7f67e809cad0>)\n",
      "('click', <matplotlib.backend_bases.MouseEvent object at 0x7f67b23cd310>)\n",
      "('click', <matplotlib.backend_bases.MouseEvent object at 0x7f67b23cdf10>)\n",
      "('click', <matplotlib.backend_bases.MouseEvent object at 0x7f67b23cdcd0>)\n",
      "('click', <matplotlib.backend_bases.MouseEvent object at 0x7f67b46d0690>)\n"
     ]
    }
   ],
   "source": [
    "import ipympl\n",
    "%matplotlib ipympl\n",
    "import matplotlib.pyplot as plt\n",
    "\n",
    "class LineBuilder:\n",
    "    def __init__(self, line):\n",
    "        self.line = line\n",
    "        self.xs = list(line.get_xdata())\n",
    "        self.ys = list(line.get_ydata())\n",
    "        self.cid = line.figure.canvas.mpl_connect('button_press_event', self)\n",
    "\n",
    "    def __call__(self, event):\n",
    "        print('click', event)\n",
    "        if event.inaxes!=self.line.axes: return\n",
    "        self.xs.append(event.xdata)\n",
    "        self.ys.append(event.ydata)\n",
    "        self.line.set_data(self.xs, self.ys)\n",
    "        self.line.figure.canvas.draw()\n",
    "\n",
    "fig = plt.figure()\n",
    "ax = fig.add_subplot(111)\n",
    "ax.set_title('click to build line segments')\n",
    "line, = ax.plot([0], [0])  # empty line\n",
    "linebuilder = LineBuilder(line)\n",
    "\n",
    "\n",
    "plt.show()"
   ]
  }
 ],
 "metadata": {
  "kernelspec": {
   "display_name": "Python [default]",
   "language": "python",
   "name": "python2"
  },
  "language_info": {
   "codemirror_mode": {
    "name": "ipython",
    "version": 2
   },
   "file_extension": ".py",
   "mimetype": "text/x-python",
   "name": "python",
   "nbconvert_exporter": "python",
   "pygments_lexer": "ipython2",
   "version": "2.7.14"
  }
 },
 "nbformat": 4,
 "nbformat_minor": 2
}
